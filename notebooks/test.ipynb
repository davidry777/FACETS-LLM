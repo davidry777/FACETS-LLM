{
 "cells": [
  {
   "cell_type": "code",
   "execution_count": 1,
   "id": "9c996d92",
   "metadata": {},
   "outputs": [],
   "source": [
    "import numpy as np\n",
    "import pandas as pd\n",
    "import matplotlib.pyplot as plt\n",
    "import seaborn as sns"
   ]
  },
  {
   "cell_type": "code",
   "execution_count": 7,
   "id": "f0e4c6d2",
   "metadata": {},
   "outputs": [
    {
     "data": {
      "text/html": [
       "<div>\n",
       "<style scoped>\n",
       "    .dataframe tbody tr th:only-of-type {\n",
       "        vertical-align: middle;\n",
       "    }\n",
       "\n",
       "    .dataframe tbody tr th {\n",
       "        vertical-align: top;\n",
       "    }\n",
       "\n",
       "    .dataframe thead th {\n",
       "        text-align: right;\n",
       "    }\n",
       "</style>\n",
       "<table border=\"1\" class=\"dataframe\">\n",
       "  <thead>\n",
       "    <tr style=\"text-align: right;\">\n",
       "      <th></th>\n",
       "      <th>Customer ID</th>\n",
       "      <th>Recency</th>\n",
       "      <th>Frequency</th>\n",
       "      <th>Monetary</th>\n",
       "    </tr>\n",
       "  </thead>\n",
       "  <tbody>\n",
       "    <tr>\n",
       "      <th>0</th>\n",
       "      <td>-1.0</td>\n",
       "      <td>0</td>\n",
       "      <td>225651</td>\n",
       "      <td>3021334.77</td>\n",
       "    </tr>\n",
       "    <tr>\n",
       "      <th>1</th>\n",
       "      <td>12346.0</td>\n",
       "      <td>325</td>\n",
       "      <td>34</td>\n",
       "      <td>77556.46</td>\n",
       "    </tr>\n",
       "    <tr>\n",
       "      <th>2</th>\n",
       "      <td>12608.0</td>\n",
       "      <td>404</td>\n",
       "      <td>16</td>\n",
       "      <td>415.79</td>\n",
       "    </tr>\n",
       "    <tr>\n",
       "      <th>3</th>\n",
       "      <td>12745.0</td>\n",
       "      <td>486</td>\n",
       "      <td>22</td>\n",
       "      <td>723.85</td>\n",
       "    </tr>\n",
       "    <tr>\n",
       "      <th>4</th>\n",
       "      <td>12746.0</td>\n",
       "      <td>540</td>\n",
       "      <td>17</td>\n",
       "      <td>254.55</td>\n",
       "    </tr>\n",
       "  </tbody>\n",
       "</table>\n",
       "</div>"
      ],
      "text/plain": [
       "   Customer ID  Recency  Frequency    Monetary\n",
       "0         -1.0        0     225651  3021334.77\n",
       "1      12346.0      325         34    77556.46\n",
       "2      12608.0      404         16      415.79\n",
       "3      12745.0      486         22      723.85\n",
       "4      12746.0      540         17      254.55"
      ]
     },
     "execution_count": 7,
     "metadata": {},
     "output_type": "execute_result"
    }
   ],
   "source": [
    "# Check column names in uk_rfm_cleaned.parquet\n",
    "uk_rfm = pd.read_parquet('../data/cleaned/uk_rfm_cleaned.parquet')\n",
    "uk_rfm.columns\n",
    "uk_rfm.head()"
   ]
  },
  {
   "cell_type": "code",
   "execution_count": 9,
   "id": "edd59bc7",
   "metadata": {},
   "outputs": [],
   "source": [
    "uk_rfm.to_csv('~/Downloads/uk_rfm_cleaned.csv', index=False)"
   ]
  }
 ],
 "metadata": {
  "kernelspec": {
   "display_name": "facets-env",
   "language": "python",
   "name": "python3"
  },
  "language_info": {
   "codemirror_mode": {
    "name": "ipython",
    "version": 3
   },
   "file_extension": ".py",
   "mimetype": "text/x-python",
   "name": "python",
   "nbconvert_exporter": "python",
   "pygments_lexer": "ipython3",
   "version": "3.11.11"
  }
 },
 "nbformat": 4,
 "nbformat_minor": 5
}
